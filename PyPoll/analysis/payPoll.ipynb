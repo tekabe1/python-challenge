{
 "cells": [
  {
   "cell_type": "code",
   "execution_count": 1,
   "id": "69564ec9-fa5c-4e96-bca0-2e703a66393b",
   "metadata": {},
   "outputs": [],
   "source": [
    "import pandas as pd\n",
    "import numpy as np\n",
    "import os"
   ]
  },
  {
   "cell_type": "code",
   "execution_count": 2,
   "id": "08787332-4398-4b93-af20-69728f8be749",
   "metadata": {},
   "outputs": [],
   "source": [
    "from pathlib import Path"
   ]
  },
  {
   "cell_type": "code",
   "execution_count": 3,
   "id": "cd608bfd-ad5f-4930-8221-c584a08cbc82",
   "metadata": {},
   "outputs": [],
   "source": [
    "pyPoll_df = pd.read_csv(\"Resources/election_data.csv\")"
   ]
  },
  {
   "cell_type": "code",
   "execution_count": 4,
   "id": "2ac74806-28e2-4bbf-9dba-338f184f1e4d",
   "metadata": {},
   "outputs": [
    {
     "data": {
      "text/html": [
       "<div>\n",
       "<style scoped>\n",
       "    .dataframe tbody tr th:only-of-type {\n",
       "        vertical-align: middle;\n",
       "    }\n",
       "\n",
       "    .dataframe tbody tr th {\n",
       "        vertical-align: top;\n",
       "    }\n",
       "\n",
       "    .dataframe thead th {\n",
       "        text-align: right;\n",
       "    }\n",
       "</style>\n",
       "<table border=\"1\" class=\"dataframe\">\n",
       "  <thead>\n",
       "    <tr style=\"text-align: right;\">\n",
       "      <th></th>\n",
       "      <th>Ballot ID</th>\n",
       "      <th>County</th>\n",
       "      <th>Candidate</th>\n",
       "    </tr>\n",
       "  </thead>\n",
       "  <tbody>\n",
       "    <tr>\n",
       "      <th>0</th>\n",
       "      <td>1323913</td>\n",
       "      <td>Jefferson</td>\n",
       "      <td>Charles Casper Stockham</td>\n",
       "    </tr>\n",
       "    <tr>\n",
       "      <th>1</th>\n",
       "      <td>1005842</td>\n",
       "      <td>Jefferson</td>\n",
       "      <td>Charles Casper Stockham</td>\n",
       "    </tr>\n",
       "    <tr>\n",
       "      <th>2</th>\n",
       "      <td>1880345</td>\n",
       "      <td>Jefferson</td>\n",
       "      <td>Charles Casper Stockham</td>\n",
       "    </tr>\n",
       "    <tr>\n",
       "      <th>3</th>\n",
       "      <td>1600337</td>\n",
       "      <td>Jefferson</td>\n",
       "      <td>Charles Casper Stockham</td>\n",
       "    </tr>\n",
       "    <tr>\n",
       "      <th>4</th>\n",
       "      <td>1835994</td>\n",
       "      <td>Jefferson</td>\n",
       "      <td>Charles Casper Stockham</td>\n",
       "    </tr>\n",
       "    <tr>\n",
       "      <th>5</th>\n",
       "      <td>1772756</td>\n",
       "      <td>Jefferson</td>\n",
       "      <td>Charles Casper Stockham</td>\n",
       "    </tr>\n",
       "    <tr>\n",
       "      <th>6</th>\n",
       "      <td>1920023</td>\n",
       "      <td>Jefferson</td>\n",
       "      <td>Charles Casper Stockham</td>\n",
       "    </tr>\n",
       "    <tr>\n",
       "      <th>7</th>\n",
       "      <td>1040408</td>\n",
       "      <td>Jefferson</td>\n",
       "      <td>Charles Casper Stockham</td>\n",
       "    </tr>\n",
       "    <tr>\n",
       "      <th>8</th>\n",
       "      <td>1018414</td>\n",
       "      <td>Jefferson</td>\n",
       "      <td>Charles Casper Stockham</td>\n",
       "    </tr>\n",
       "    <tr>\n",
       "      <th>9</th>\n",
       "      <td>1361118</td>\n",
       "      <td>Jefferson</td>\n",
       "      <td>Charles Casper Stockham</td>\n",
       "    </tr>\n",
       "  </tbody>\n",
       "</table>\n",
       "</div>"
      ],
      "text/plain": [
       "   Ballot ID     County                Candidate\n",
       "0    1323913  Jefferson  Charles Casper Stockham\n",
       "1    1005842  Jefferson  Charles Casper Stockham\n",
       "2    1880345  Jefferson  Charles Casper Stockham\n",
       "3    1600337  Jefferson  Charles Casper Stockham\n",
       "4    1835994  Jefferson  Charles Casper Stockham\n",
       "5    1772756  Jefferson  Charles Casper Stockham\n",
       "6    1920023  Jefferson  Charles Casper Stockham\n",
       "7    1040408  Jefferson  Charles Casper Stockham\n",
       "8    1018414  Jefferson  Charles Casper Stockham\n",
       "9    1361118  Jefferson  Charles Casper Stockham"
      ]
     },
     "execution_count": 4,
     "metadata": {},
     "output_type": "execute_result"
    }
   ],
   "source": [
    "pyPoll_df.head(10)"
   ]
  },
  {
   "cell_type": "code",
   "execution_count": 5,
   "id": "5cdbc1a9-8093-4b01-b782-ef95718cd51c",
   "metadata": {},
   "outputs": [
    {
     "name": "stdout",
     "output_type": "stream",
     "text": [
      "Total Votes: 369711\n"
     ]
    }
   ],
   "source": [
    "# Count the total number of votes cast\n",
    "total_num_votes = pyPoll_df['Ballot ID'].count()\n",
    "print(f'Total Votes: {total_num_votes}')\n",
    "\n",
    "# Write the results to a text file\n",
    "with open(\"output.txt\", \"w\") as output_file:\n",
    "    output_file.write(\"Election Results\\n\")\n",
    "    output_file.write(\"--------------------------------------\\n\")\n",
    "    output_file.write(f\"Total Votes: {total_num_votes}\\n\")"
   ]
  },
  {
   "cell_type": "code",
   "execution_count": 6,
   "id": "918b2538-4993-4966-80b5-068a70381e00",
   "metadata": {},
   "outputs": [
    {
     "name": "stdout",
     "output_type": "stream",
     "text": [
      "Diana DeGette: 73.812% (272892)\n",
      "Charles Casper Stockham: 23.049% (85213)\n",
      "Raymon Anthony Doane: 3.139% (11606)\n"
     ]
    }
   ],
   "source": [
    "\n",
    "# calculate the total number of votes each candidate won\n",
    "total_votes = pyPoll_df['Candidate'].value_counts()\n",
    "\n",
    "# calculate the percentage of votes each candidate won\n",
    "percent_votes = round(total_votes / total_votes.sum() * 100, 3)\n",
    "\n",
    "# create a list to hold the output strings\n",
    "output = []\n",
    "\n",
    "# loop through each candidate and add their name, percentage of votes, and total number of votes to the output list\n",
    "for candidate, votes in total_votes.items():\n",
    "    percent = percent_votes[candidate]\n",
    "    output.append(f\"{candidate}: {percent:.3f}% ({votes})\")\n",
    "\n",
    "# write the output list to a text file\n",
    "with open(\"output.txt\", \"w\") as output_file:\n",
    "    output_file.write(\"Election Results\\n\")\n",
    "    output_file.write(\"----------------------------------------\\n\")\n",
    "    output_file.write(f\"Total Votes: {total_num_votes}\\n\")\n",
    "    output_file.write(\"----------------------------------------\\n\")\n",
    "    output_file.write(\"\\n\".join(output))\n",
    "\n",
    "# print the output to the terminal\n",
    "print(\"\\n\".join(output))\n",
    "\n",
    "\n"
   ]
  },
  {
   "cell_type": "code",
   "execution_count": 7,
   "id": "338e80d9-7406-41c5-b087-9b4f39828849",
   "metadata": {},
   "outputs": [
    {
     "name": "stdout",
     "output_type": "stream",
     "text": [
      "Winner: Diana DeGette\n"
     ]
    }
   ],
   "source": [
    "# calculate the total number of votes each candidate won\n",
    "total_votes = pyPoll_df['Candidate'].value_counts()\n",
    "\n",
    "# calculate the percentage of votes each candidate won\n",
    "percent_votes = round(total_votes / total_votes.sum() * 100, 3)\n",
    "\n",
    "# loop through each candidate: their name, percentage of votes, and total number of votes\n",
    "for candidate, votes in total_votes.items():\n",
    " percent = percent_votes[candidate]\n",
    "\n",
    "#determine the winner\n",
    "winner = total_votes.idxmax()\n",
    "print(f\"Winner: {winner}\")\n",
    "\n",
    "# write the output list to a text file\n",
    "with open(\"output.txt\", \"w\") as output_file:\n",
    "    output_file.write(\"Election Results\\n\")\n",
    "    \n",
    "    output_file.write(\"-----------------------------------------\\n\")\n",
    "    \n",
    "    output_file.write(f\"Total Votes: {total_num_votes}\\n\")\n",
    "    \n",
    "    output_file.write(\"-----------------------------------------\\n\")\n",
    "    \n",
    "    output_file.write(\"\\n\".join(output))\n",
    "    \n",
    "    output_file.write(\"\\n-----------------------------------------\\n\")\n",
    "    \n",
    "    output_file.write(\"\\nWinner: {winner}\\n\")\n",
    "    \n",
    "    output_file.write(\"-----------------------------------------\\n\")"
   ]
  },
  {
   "cell_type": "code",
   "execution_count": null,
   "id": "d460b121-3795-43ca-be9b-8d4cdd066e70",
   "metadata": {},
   "outputs": [],
   "source": []
  }
 ],
 "metadata": {
  "kernelspec": {
   "display_name": "Python 3 (ipykernel)",
   "language": "python",
   "name": "python3"
  },
  "language_info": {
   "codemirror_mode": {
    "name": "ipython",
    "version": 3
   },
   "file_extension": ".py",
   "mimetype": "text/x-python",
   "name": "python",
   "nbconvert_exporter": "python",
   "pygments_lexer": "ipython3",
   "version": "3.10.9"
  }
 },
 "nbformat": 4,
 "nbformat_minor": 5
}
