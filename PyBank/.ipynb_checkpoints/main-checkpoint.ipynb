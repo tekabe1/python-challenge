{
 "cells": [
  {
   "cell_type": "code",
   "execution_count": 1,
   "id": "9b1dcd91-bd0e-45da-ad11-6c49f762eedd",
   "metadata": {},
   "outputs": [],
   "source": [
    "import pandas as pd\n",
    "import numpy as np\n",
    "import os"
   ]
  },
  {
   "cell_type": "code",
   "execution_count": 2,
   "id": "67a475c5-90c8-47c9-befe-6cb5685b1b1d",
   "metadata": {},
   "outputs": [],
   "source": [
    "from pathlib import Path"
   ]
  },
  {
   "cell_type": "code",
   "execution_count": 4,
   "id": "7835f85e-f3f9-4931-aeb4-6ed6cb8ef5ce",
   "metadata": {},
   "outputs": [
    {
     "data": {
      "text/html": [
       "<div>\n",
       "<style scoped>\n",
       "    .dataframe tbody tr th:only-of-type {\n",
       "        vertical-align: middle;\n",
       "    }\n",
       "\n",
       "    .dataframe tbody tr th {\n",
       "        vertical-align: top;\n",
       "    }\n",
       "\n",
       "    .dataframe thead th {\n",
       "        text-align: right;\n",
       "    }\n",
       "</style>\n",
       "<table border=\"1\" class=\"dataframe\">\n",
       "  <thead>\n",
       "    <tr style=\"text-align: right;\">\n",
       "      <th></th>\n",
       "      <th>Date</th>\n",
       "      <th>Profit/Losses</th>\n",
       "    </tr>\n",
       "  </thead>\n",
       "  <tbody>\n",
       "    <tr>\n",
       "      <th>0</th>\n",
       "      <td>Jan-10</td>\n",
       "      <td>1088983</td>\n",
       "    </tr>\n",
       "    <tr>\n",
       "      <th>1</th>\n",
       "      <td>Feb-10</td>\n",
       "      <td>-354534</td>\n",
       "    </tr>\n",
       "    <tr>\n",
       "      <th>2</th>\n",
       "      <td>Mar-10</td>\n",
       "      <td>276622</td>\n",
       "    </tr>\n",
       "    <tr>\n",
       "      <th>3</th>\n",
       "      <td>Apr-10</td>\n",
       "      <td>-728133</td>\n",
       "    </tr>\n",
       "    <tr>\n",
       "      <th>4</th>\n",
       "      <td>May-10</td>\n",
       "      <td>852993</td>\n",
       "    </tr>\n",
       "  </tbody>\n",
       "</table>\n",
       "</div>"
      ],
      "text/plain": [
       "     Date  Profit/Losses\n",
       "0  Jan-10        1088983\n",
       "1  Feb-10        -354534\n",
       "2  Mar-10         276622\n",
       "3  Apr-10        -728133\n",
       "4  May-10         852993"
      ]
     },
     "execution_count": 4,
     "metadata": {},
     "output_type": "execute_result"
    }
   ],
   "source": [
    "pyBank_df = pd.read_csv(\"Resources/budget_data.csv\")\n",
    "pyBank_df.head()"
   ]
  },
  {
   "cell_type": "code",
   "execution_count": 68,
   "id": "30527ad9-ecb2-4a6a-8afd-c5dbb57f5f58",
   "metadata": {},
   "outputs": [
    {
     "name": "stdout",
     "output_type": "stream",
     "text": [
      "Total Months:  86\n"
     ]
    }
   ],
   "source": [
    "\n",
    "# get the number of rows (months) in the DataFrame using the shape function and extract the first element (number of rows)\n",
    "num_total_months = pyBank_df.shape[0]\n",
    "\n",
    "# print the string \"Total Months: \" followed by the value of num_total_months\n",
    "print(\"Total Months: \", num_total_months)\n",
    "\n",
    "# Write the results to a text file\n",
    "with open(\"output.txt\", \"w\") as output_file:\n",
    "    output_file.write(\"Financial Analysis\\n\")\n",
    "    output_file.write(\"------------------\\n\")\n",
    "    output_file.write(f\"Total Months: {num_total_months}\\n\")\n"
   ]
  },
  {
   "cell_type": "code",
   "execution_count": 8,
   "id": "05f7d5f7-f5ad-4387-829d-bd1650ed1186",
   "metadata": {},
   "outputs": [
    {
     "data": {
      "text/html": [
       "<div>\n",
       "<style scoped>\n",
       "    .dataframe tbody tr th:only-of-type {\n",
       "        vertical-align: middle;\n",
       "    }\n",
       "\n",
       "    .dataframe tbody tr th {\n",
       "        vertical-align: top;\n",
       "    }\n",
       "\n",
       "    .dataframe thead th {\n",
       "        text-align: right;\n",
       "    }\n",
       "</style>\n",
       "<table border=\"1\" class=\"dataframe\">\n",
       "  <thead>\n",
       "    <tr style=\"text-align: right;\">\n",
       "      <th></th>\n",
       "      <th>Profit/Losses</th>\n",
       "    </tr>\n",
       "  </thead>\n",
       "  <tbody>\n",
       "    <tr>\n",
       "      <th>count</th>\n",
       "      <td>8.600000e+01</td>\n",
       "    </tr>\n",
       "    <tr>\n",
       "      <th>mean</th>\n",
       "      <td>2.623744e+05</td>\n",
       "    </tr>\n",
       "    <tr>\n",
       "      <th>std</th>\n",
       "      <td>6.244057e+05</td>\n",
       "    </tr>\n",
       "    <tr>\n",
       "      <th>min</th>\n",
       "      <td>-1.194133e+06</td>\n",
       "    </tr>\n",
       "    <tr>\n",
       "      <th>25%</th>\n",
       "      <td>-1.944645e+05</td>\n",
       "    </tr>\n",
       "    <tr>\n",
       "      <th>50%</th>\n",
       "      <td>4.528330e+05</td>\n",
       "    </tr>\n",
       "    <tr>\n",
       "      <th>75%</th>\n",
       "      <td>7.494155e+05</td>\n",
       "    </tr>\n",
       "    <tr>\n",
       "      <th>max</th>\n",
       "      <td>1.141840e+06</td>\n",
       "    </tr>\n",
       "  </tbody>\n",
       "</table>\n",
       "</div>"
      ],
      "text/plain": [
       "       Profit/Losses\n",
       "count   8.600000e+01\n",
       "mean    2.623744e+05\n",
       "std     6.244057e+05\n",
       "min    -1.194133e+06\n",
       "25%    -1.944645e+05\n",
       "50%     4.528330e+05\n",
       "75%     7.494155e+05\n",
       "max     1.141840e+06"
      ]
     },
     "execution_count": 8,
     "metadata": {},
     "output_type": "execute_result"
    }
   ],
   "source": [
    "pyBank_df.describe()"
   ]
  },
  {
   "cell_type": "code",
   "execution_count": 69,
   "id": "514d690c-6cd4-4215-b0ff-851e19892037",
   "metadata": {},
   "outputs": [
    {
     "name": "stdout",
     "output_type": "stream",
     "text": [
      "Total: $ 22564198\n"
     ]
    }
   ],
   "source": [
    "\n",
    "#calculate the sum of the 'Profit/Losses' column using the sum function \n",
    "Total = pyBank_df['Profit/Losses'].sum()\n",
    "print(\"Total: $\",Total)\n",
    "with open(\"output.txt\", \"w\") as output_file:\n",
    "    output_file.write(\"Financial Analysis\\n\")\n",
    "    output_file.write(\"------------------\\n\")\n",
    "    output_file.write(f\"Total Months: {num_total_months}\\n\")\n",
    "    output_file.write(f\"Total: ${Total}\\n\")\n",
    "\n",
    "\n"
   ]
  },
  {
   "cell_type": "code",
   "execution_count": 70,
   "id": "657098f8-947e-46dd-92aa-8a2b24c10eee",
   "metadata": {},
   "outputs": [
    {
     "name": "stdout",
     "output_type": "stream",
     "text": [
      "Average Change: $-8311.11\n"
     ]
    }
   ],
   "source": [
    "\n",
    "# create a new column that calculate the difference between the current and previous month's Profit/Losses\n",
    "pyBank_df['Monthly Change'] = pyBank_df['Profit/Losses'].diff()\n",
    "\n",
    "#calculate the average change in Profit/Losses from month to month using the mean() function on the 'Monthly Change' column\n",
    "avg_change = pyBank_df['Monthly Change'].mean()\n",
    "\n",
    "print(f\"Average Change: ${avg_change:.2f}\")\n",
    "\n",
    "with open(\"output.txt\", \"w\") as output_file:\n",
    "    output_file.write(\"Financial Analysis\\n\")\n",
    "    output_file.write(\"------------------\\n\")\n",
    "    output_file.write(f\"Total Months: {num_total_months}\\n\")\n",
    "    output_file.write(f\"Total: ${Total}\\n\")\n",
    "    output_file.write(f\"Average Change: ${avg_change:.2f}\\n\")\n",
    "\n"
   ]
  },
  {
   "cell_type": "code",
   "execution_count": 71,
   "id": "5fbdd717-61d8-4b73-a9dd-ad6eb8f718ba",
   "metadata": {},
   "outputs": [
    {
     "name": "stdout",
     "output_type": "stream",
     "text": [
      "Greatest Increase in Profits: $Aug-16  ($1862002)\n"
     ]
    }
   ],
   "source": [
    "import csv\n",
    "\n",
    "# Open and read the CSV file\n",
    "with open('Resources/budget_data.csv') as csvfile:\n",
    "    csvreader = csv.reader(csvfile, delimiter=',')\n",
    "    next(csvreader)  # skip header row\n",
    "\n",
    "    # Initialize variables\n",
    "    max_increase = 0\n",
    "    prev_profit = 0\n",
    "    max_increase_date = \"\"\n",
    "\n",
    "    # Loop through each row in the CSV file\n",
    "    for row in csvreader:\n",
    "        date = row[0]\n",
    "        profit = int(row[1])\n",
    "\n",
    "        # Calculate the change in profit\n",
    "        change = profit - prev_profit\n",
    "\n",
    "        # Check if the change in profit is greater than the current max increase\n",
    "        if change > max_increase:\n",
    "            max_increase = change\n",
    "            max_increase_date = date\n",
    "\n",
    "        # Update the previous profit for the next iteration\n",
    "        prev_profit = profit\n",
    "\n",
    "    # Print the result\n",
    "    print(f\"Greatest Increase in Profits: ${max_increase_date}  (${max_increase})\")\n",
    "    \n",
    "with open(\"output.txt\", \"w\") as output_file:\n",
    "    output_file.write(\"Financial Analysis\\n\")\n",
    "    output_file.write(\"------------------\\n\")\n",
    "    output_file.write(f\"Total Months: {num_total_months}\\n\")\n",
    "    output_file.write(f\"Total: ${Total}\\n\")\n",
    "    output_file.write(f\"Average Change: ${avg_change:.2f}\\n\")\n",
    "    output_file.write(f\"Greatest Increase in Profits: {max_increase_date} (${max_increase})\\n\")\n",
    "\n",
    "\n"
   ]
  },
  {
   "cell_type": "code",
   "execution_count": 65,
   "id": "27b8b157-069b-46b8-bb63-56d83e595414",
   "metadata": {},
   "outputs": [
    {
     "name": "stdout",
     "output_type": "stream",
     "text": [
      "Greatest Decrease in Profits: Feb-14  ($-1825558)\n"
     ]
    }
   ],
   "source": [
    "\n",
    "pyBank_df = pd.read_csv(\"Resources/budget_data.csv\")\n",
    "\n",
    "# Calculate the change in profits month over month\n",
    "pyBank_df['Profit Change'] = pyBank_df['Profit/Losses'].diff()\n",
    "\n",
    "# Find the index of the row with the greatest decrease in profits\n",
    "greatest_decrease_index = pyBank_df['Profit Change'].idxmin()\n",
    "\n",
    "# Get the date and amount of the greatest decrease in profits\n",
    "greatest_decrease_date = pyBank_df.iloc[greatest_decrease_index]['Date']\n",
    "greatest_decrease_amount = pyBank_df.iloc[greatest_decrease_index]['Profit Change']\n",
    "\n",
    "# Print the result\n",
    "print(f'Greatest Decrease in Profits: {greatest_decrease_date}  (${greatest_decrease_amount:.0f})')\n",
    "\n",
    "with open(\"output.txt\", \"w\") as output_file:\n",
    "    output_file.write(\"Financial Analysis\\n\")\n",
    "    output_file.write(\"------------------\\n\")\n",
    "    output_file.write(f\"Total Months: {num_total_months}\\n\")\n",
    "    output_file.write(f\"Total: ${Total}\\n\")\n",
    "    output_file.write(f\"Average Change: ${avg_change:.2f}\\n\")\n",
    "    output_file.write(f\"Greatest Increase in Profits: {max_increase_date} (${max_increase})\\n\")\n",
    "    output_file.write(f'Greatest Decrease in Profits: {greatest_decrease_date} (${greatest_decrease_amount:.0f})')\n",
    "\n"
   ]
  },
  {
   "cell_type": "code",
   "execution_count": null,
   "id": "c723576b-6a6f-40b6-81e9-e8e6b7973604",
   "metadata": {},
   "outputs": [],
   "source": []
  }
 ],
 "metadata": {
  "kernelspec": {
   "display_name": "Python 3 (ipykernel)",
   "language": "python",
   "name": "python3"
  },
  "language_info": {
   "codemirror_mode": {
    "name": "ipython",
    "version": 3
   },
   "file_extension": ".py",
   "mimetype": "text/x-python",
   "name": "python",
   "nbconvert_exporter": "python",
   "pygments_lexer": "ipython3",
   "version": "3.10.9"
  }
 },
 "nbformat": 4,
 "nbformat_minor": 5
}
